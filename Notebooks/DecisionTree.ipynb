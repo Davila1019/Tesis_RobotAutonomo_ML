{
 "cells": [
  {
   "cell_type": "code",
   "execution_count": 1,
   "metadata": {},
   "outputs": [],
   "source": [
    "import pandas as pd\n",
    "from sklearn.tree import DecisionTreeClassifier\n",
    "from sklearn.metrics import accuracy_score\n",
    "from sklearn.model_selection import train_test_split\n",
    "import matplotlib.pyplot as plt\n",
    "from sklearn import metrics\n",
    "import joblib"
   ]
  },
  {
   "cell_type": "code",
   "execution_count": 2,
   "metadata": {},
   "outputs": [],
   "source": [
    "datos = pd.read_csv('./Datasets/frames_erosion.csv')"
   ]
  },
  {
   "cell_type": "code",
   "execution_count": 3,
   "metadata": {},
   "outputs": [],
   "source": [
    "X = datos.drop('clase', axis=1)\n",
    "y = datos['clase']"
   ]
  },
  {
   "cell_type": "code",
   "execution_count": 4,
   "metadata": {},
   "outputs": [
    {
     "name": "stdout",
     "output_type": "stream",
     "text": [
      "       x1   x2   x3   x4   x5   x6   x7   x8   x9  x10  ...  x1143  x1144  \\\n",
      "3961    0    0    0    0    0    0    0    0    0    0  ...      0      0   \n",
      "1689  255  255  255  255  255  255  255  255  255  255  ...      0      0   \n",
      "4774    0    0    0    0    0    0    0    0    0    0  ...      0      0   \n",
      "6508    0    0    0    0    0    0    0    0    0  255  ...      0      0   \n",
      "305     0    0    0    0    0    0    0    0    0    0  ...      0      0   \n",
      "...   ...  ...  ...  ...  ...  ...  ...  ...  ...  ...  ...    ...    ...   \n",
      "3399  255  255  255    0    0    0    0    0    0    0  ...      0      0   \n",
      "2773    0    0    0    0    0    0    0    0    0    0  ...      0      0   \n",
      "296     0    0    0    0    0    0    0    0    0    0  ...    255    255   \n",
      "575     0    0    0  255  255  255    0    0    0    0  ...      0      0   \n",
      "7982  255  255  255  255  255  255  255  255    0    0  ...      0      0   \n",
      "\n",
      "      x1145  x1146  x1147  x1148  x1149  x1150  x1151  x1152  \n",
      "3961      0      0      0      0      0      0      0      0  \n",
      "1689      0      0      0      0      0      0      0      0  \n",
      "4774      0      0      0      0      0      0      0      0  \n",
      "6508      0      0      0      0      0      0      0      0  \n",
      "305       0      0      0      0      0      0      0      0  \n",
      "...     ...    ...    ...    ...    ...    ...    ...    ...  \n",
      "3399      0      0      0      0      0      0      0      0  \n",
      "2773      0      0      0      0      0      0      0      0  \n",
      "296     255    255    255    255    255    255      0      0  \n",
      "575       0      0      0      0      0      0      0      0  \n",
      "7982      0      0      0      0      0      0      0      0  \n",
      "\n",
      "[5894 rows x 1152 columns]\n"
     ]
    }
   ],
   "source": [
    "# dividir los datos en conjuntos de entrenamiento y prueba\n",
    "X_entrenamiento, X_prueba, y_entrenamiento, y_prueba = train_test_split(X, y, test_size=0.3, random_state=65)\n",
    "#NOTA: el parametro RANDOM_STATE tiene relación indirecta con el porcentaje de aciertos del modelo 70% y 30%\n",
    "print(X_entrenamiento)"
   ]
  },
  {
   "cell_type": "code",
   "execution_count": 5,
   "metadata": {},
   "outputs": [
    {
     "data": {
      "text/plain": [
       "['./modelos/modelo_autonomo_decisionTree.joblib']"
      ]
     },
     "execution_count": 5,
     "metadata": {},
     "output_type": "execute_result"
    }
   ],
   "source": [
    "\n",
    "modelo_desicionTree = DecisionTreeClassifier(criterion='entropy',splitter='best')\n",
    "modelo_desicionTree.fit(X_entrenamiento,y_entrenamiento)\n",
    "# indicamos que los objetos de entrada no tendran una clase prviamente asignada\n",
    "modelo_desicionTree.feature_names_in_ = None\n",
    "joblib.dump(modelo_desicionTree, './modelos/modelo_autonomo_decisionTree.joblib')"
   ]
  },
  {
   "cell_type": "code",
   "execution_count": 6,
   "metadata": {},
   "outputs": [
    {
     "name": "stderr",
     "output_type": "stream",
     "text": [
      "c:\\Python\\lib\\site-packages\\sklearn\\base.py:443: UserWarning: X has feature names, but DecisionTreeClassifier was fitted without feature names\n",
      "  warnings.warn(\n"
     ]
    },
    {
     "data": {
      "text/plain": [
       "0.997229916897507"
      ]
     },
     "execution_count": 6,
     "metadata": {},
     "output_type": "execute_result"
    }
   ],
   "source": [
    "#la presición del modelo varia dependiendo del estado de memoria de la pc\n",
    "#al momento de entrenar\n",
    "predicciones = modelo_desicionTree.predict(X_prueba)\n",
    "accuracy_score(predicciones,y_prueba)"
   ]
  },
  {
   "cell_type": "code",
   "execution_count": 7,
   "metadata": {},
   "outputs": [
    {
     "data": {
      "text/plain": [
       "array([[832,   0,   0],\n",
       "       [  0, 857,   7],\n",
       "       [  0,   0, 831]], dtype=int64)"
      ]
     },
     "execution_count": 7,
     "metadata": {},
     "output_type": "execute_result"
    }
   ],
   "source": [
    "#generar la matriz confusión\n",
    "confusion_matrix = metrics.confusion_matrix(y_prueba, \n",
    "                                                predicciones)\n",
    "\n",
    "confusion_matrix"
   ]
  },
  {
   "cell_type": "code",
   "execution_count": 8,
   "metadata": {},
   "outputs": [
    {
     "data": {
      "image/png": "[encoded data removed]",
      "text/plain": [
       "<Figure size 640x480 with 2 Axes>"
      ]
     },
     "metadata": {},
     "output_type": "display_data"
    }
   ],
   "source": [
    "cm_display = metrics.ConfusionMatrixDisplay(confusion_matrix = confusion_matrix, display_labels = ['x1','x2','x3'])\n",
    "\n",
    "cm_display.plot()\n",
    "plt.title(\"Matriz Confusión\")\n",
    "plt.xlabel(\"Predichos\")\n",
    "plt.ylabel(\"Verdaderos\")\n",
    "plt.show()"
   ]
  }
 ],
 "metadata": {
  "kernelspec": {
   "display_name": "Python 3",
   "language": "python",
   "name": "python3"
  },
  "language_info": {
   "codemirror_mode": {
    "name": "ipython",
    "version": 3
   },
   "file_extension": ".py",
   "mimetype": "text/x-python",
   "name": "python",
   "nbconvert_exporter": "python",
   "pygments_lexer": "ipython3",
   "version": "3.10.4"
  },
  "orig_nbformat": 4
 },
 "nbformat": 4,
 "nbformat_minor": 2
}
