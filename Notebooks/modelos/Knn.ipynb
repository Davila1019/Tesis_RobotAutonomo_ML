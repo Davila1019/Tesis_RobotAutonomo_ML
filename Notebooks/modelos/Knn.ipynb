{
 "cells": [
  {
   "attachments": {},
   "cell_type": "markdown",
   "metadata": {},
   "source": [
    "Algoritmo de clasificación supervisada Knn"
   ]
  },
  {
   "cell_type": "code",
   "execution_count": 1,
   "metadata": {},
   "outputs": [],
   "source": [
    "import pandas as pd\n",
    "from sklearn.neighbors import KNeighborsClassifier\n",
    "from sklearn.metrics import accuracy_score\n",
    "from sklearn.model_selection import train_test_split\n",
    "import matplotlib.pyplot as plt\n",
    "from sklearn import metrics\n",
    "import joblib"
   ]
  },
  {
   "cell_type": "code",
   "execution_count": 2,
   "metadata": {},
   "outputs": [],
   "source": [
    "# cargar los datos desde un archivo CSV\n",
    "datos = pd.read_csv('../Datasets/frames_erosion.csv')"
   ]
  },
  {
   "cell_type": "code",
   "execution_count": 3,
   "metadata": {},
   "outputs": [],
   "source": [
    "# separar los datos en características y etiquetas\n",
    "X = datos.drop('clase', axis=1)\n",
    "y = datos['clase']"
   ]
  },
  {
   "cell_type": "code",
   "execution_count": 4,
   "metadata": {},
   "outputs": [
    {
     "name": "stdout",
     "output_type": "stream",
     "text": [
      "datos aleatorios X:         x1   x2   x3   x4   x5  x6  x7  x8  x9  x10  ...  x1143  x1144  x1145   \n",
      "0       0    0    0    0    0   0   0   0   0    0  ...    255      0      0  \\\n",
      "1       0    0    0    0    0   0   0   0   0    0  ...      0      0      0   \n",
      "2       0    0    0    0    0   0   0   0   0    0  ...    255    255    255   \n",
      "3       0    0    0    0    0   0   0   0   0    0  ...    255    255    255   \n",
      "4     255  255  255  255  255   0   0   0   0    0  ...    255    255    255   \n",
      "...   ...  ...  ...  ...  ...  ..  ..  ..  ..  ...  ...    ...    ...    ...   \n",
      "8416    0    0    0    0    0   0   0   0   0    0  ...      0      0      0   \n",
      "8417    0    0    0    0    0   0   0   0   0    0  ...      0      0      0   \n",
      "8418    0    0    0    0    0   0   0   0   0    0  ...      0      0      0   \n",
      "8419    0    0    0    0    0   0   0   0   0    0  ...      0      0      0   \n",
      "8420    0    0    0    0    0   0   0   0   0    0  ...      0      0      0   \n",
      "\n",
      "      x1146  x1147  x1148  x1149  x1150  x1151  x1152  \n",
      "0         0      0      0    255    255    255    255  \n",
      "1         0    255    255    255    255    255    255  \n",
      "2       255    255    255    255    255    255    255  \n",
      "3       255    255    255      0      0      0      0  \n",
      "4         0      0      0      0      0      0      0  \n",
      "...     ...    ...    ...    ...    ...    ...    ...  \n",
      "8416      0      0      0      0      0      0      0  \n",
      "8417      0      0      0      0      0      0      0  \n",
      "8418      0      0      0      0      0      0      0  \n",
      "8419      0      0      0      0      0      0      0  \n",
      "8420      0      0      0      0      0      0      0  \n",
      "\n",
      "[8421 rows x 1152 columns]\n",
      "                    \n",
      "datos aleatorios y 0       LEFT\n",
      "1       LEFT\n",
      "2       LEFT\n",
      "3       LEFT\n",
      "4       LEFT\n",
      "        ... \n",
      "8416     STR\n",
      "8417     STR\n",
      "8418     STR\n",
      "8419     STR\n",
      "8420     STR\n",
      "Name: clase, Length: 8421, dtype: object\n"
     ]
    }
   ],
   "source": [
    "print(\"datos aleatorios X: \",X)\n",
    "print(\"                    \")\n",
    "print(\"datos aleatorios y\",y)"
   ]
  },
  {
   "cell_type": "code",
   "execution_count": 5,
   "metadata": {},
   "outputs": [
    {
     "name": "stdout",
     "output_type": "stream",
     "text": [
      "5894\n"
     ]
    }
   ],
   "source": [
    "# dividir los datos en conjuntos de entrenamiento y prueba\n",
    "X_entrenamiento, X_prueba, y_entrenamiento, y_prueba = train_test_split(X, y, test_size=0.3, random_state=65)\n",
    "print(len(X_entrenamiento))"
   ]
  },
  {
   "cell_type": "code",
   "execution_count": 6,
   "metadata": {},
   "outputs": [],
   "source": [
    "## graficar las muestras de iris setosa\n",
    "#setosa = X_entrenamiento[y_entrenamiento=='Iris-setosa']\n",
    "#plt.scatter(setosa['SepalLengthCm'], setosa['SepalWidthCm'], c='r', marker='o', label='Iris-setosa')\n",
    "#\n",
    "## graficar las muestras de iris versicolor\n",
    "#versicolor = X_entrenamiento[y_entrenamiento=='Iris-versicolor']\n",
    "#plt.scatter(versicolor['SepalLengthCm'], versicolor['SepalWidthCm'], c='g', marker='^', label='Iris-versicolor')\n",
    "#\n",
    "## graficar las muestras de iris virginica\n",
    "#virginica = X_entrenamiento[y_entrenamiento=='Iris-virginica']\n",
    "#plt.scatter(virginica['SepalLengthCm'], virginica['SepalWidthCm'], c='b', marker='s', label='Iris-virginica')\n",
    "#\n",
    "## configurar los títulos y etiquetas de los ejes\n",
    "#plt.title('Datos de Entrenamiento')\n",
    "#plt.xlabel('Longitud del Sépalo (cm)')\n",
    "#plt.ylabel('Ancho del Sépalo (cm)')\n",
    "#\n",
    "## mostrar la leyenda y la gráfica\n",
    "#plt.legend()\n",
    "#plt.show()"
   ]
  },
  {
   "cell_type": "code",
   "execution_count": 7,
   "metadata": {},
   "outputs": [
    {
     "data": {
      "text/plain": [
       "['modelo_autonomo_knn.joblib']"
      ]
     },
     "execution_count": 7,
     "metadata": {},
     "output_type": "execute_result"
    }
   ],
   "source": [
    "# crear y entrenar un modelo KNN con k=3, p=2 (distancia euclidiana), \n",
    "modelo = KNeighborsClassifier(n_neighbors=2, algorithm=\"brute\",metric=\"minkowski\", p=2)\n",
    "modelo.fit(X_entrenamiento, y_entrenamiento)\n",
    "# indicamos que los objetos de entrada no tendran una clase preasignada\n",
    "modelo.feature_names_in_ = None\n",
    "joblib.dump(modelo, 'modelo_autonomo_knn.joblib')"
   ]
  },
  {
   "cell_type": "code",
   "execution_count": 8,
   "metadata": {},
   "outputs": [
    {
     "data": {
      "text/html": [
       "<div>\n",
       "<style scoped>\n",
       "    .dataframe tbody tr th:only-of-type {\n",
       "        vertical-align: middle;\n",
       "    }\n",
       "\n",
       "    .dataframe tbody tr th {\n",
       "        vertical-align: top;\n",
       "    }\n",
       "\n",
       "    .dataframe thead th {\n",
       "        text-align: right;\n",
       "    }\n",
       "</style>\n",
       "<table border=\"1\" class=\"dataframe\">\n",
       "  <thead>\n",
       "    <tr style=\"text-align: right;\">\n",
       "      <th></th>\n",
       "      <th>x1</th>\n",
       "      <th>x2</th>\n",
       "      <th>x3</th>\n",
       "      <th>x4</th>\n",
       "      <th>x5</th>\n",
       "      <th>x6</th>\n",
       "      <th>x7</th>\n",
       "      <th>x8</th>\n",
       "      <th>x9</th>\n",
       "      <th>x10</th>\n",
       "      <th>...</th>\n",
       "      <th>x1143</th>\n",
       "      <th>x1144</th>\n",
       "      <th>x1145</th>\n",
       "      <th>x1146</th>\n",
       "      <th>x1147</th>\n",
       "      <th>x1148</th>\n",
       "      <th>x1149</th>\n",
       "      <th>x1150</th>\n",
       "      <th>x1151</th>\n",
       "      <th>x1152</th>\n",
       "    </tr>\n",
       "  </thead>\n",
       "  <tbody>\n",
       "    <tr>\n",
       "      <th>8404</th>\n",
       "      <td>0</td>\n",
       "      <td>0</td>\n",
       "      <td>0</td>\n",
       "      <td>0</td>\n",
       "      <td>0</td>\n",
       "      <td>0</td>\n",
       "      <td>0</td>\n",
       "      <td>0</td>\n",
       "      <td>0</td>\n",
       "      <td>0</td>\n",
       "      <td>...</td>\n",
       "      <td>0</td>\n",
       "      <td>0</td>\n",
       "      <td>0</td>\n",
       "      <td>0</td>\n",
       "      <td>0</td>\n",
       "      <td>0</td>\n",
       "      <td>0</td>\n",
       "      <td>0</td>\n",
       "      <td>0</td>\n",
       "      <td>0</td>\n",
       "    </tr>\n",
       "    <tr>\n",
       "      <th>4949</th>\n",
       "      <td>0</td>\n",
       "      <td>0</td>\n",
       "      <td>0</td>\n",
       "      <td>0</td>\n",
       "      <td>0</td>\n",
       "      <td>0</td>\n",
       "      <td>0</td>\n",
       "      <td>0</td>\n",
       "      <td>0</td>\n",
       "      <td>0</td>\n",
       "      <td>...</td>\n",
       "      <td>0</td>\n",
       "      <td>0</td>\n",
       "      <td>0</td>\n",
       "      <td>0</td>\n",
       "      <td>0</td>\n",
       "      <td>0</td>\n",
       "      <td>0</td>\n",
       "      <td>0</td>\n",
       "      <td>0</td>\n",
       "      <td>0</td>\n",
       "    </tr>\n",
       "    <tr>\n",
       "      <th>3971</th>\n",
       "      <td>0</td>\n",
       "      <td>0</td>\n",
       "      <td>0</td>\n",
       "      <td>0</td>\n",
       "      <td>0</td>\n",
       "      <td>0</td>\n",
       "      <td>0</td>\n",
       "      <td>0</td>\n",
       "      <td>0</td>\n",
       "      <td>0</td>\n",
       "      <td>...</td>\n",
       "      <td>0</td>\n",
       "      <td>0</td>\n",
       "      <td>0</td>\n",
       "      <td>0</td>\n",
       "      <td>0</td>\n",
       "      <td>0</td>\n",
       "      <td>0</td>\n",
       "      <td>0</td>\n",
       "      <td>0</td>\n",
       "      <td>0</td>\n",
       "    </tr>\n",
       "    <tr>\n",
       "      <th>5187</th>\n",
       "      <td>255</td>\n",
       "      <td>255</td>\n",
       "      <td>255</td>\n",
       "      <td>255</td>\n",
       "      <td>255</td>\n",
       "      <td>255</td>\n",
       "      <td>255</td>\n",
       "      <td>255</td>\n",
       "      <td>255</td>\n",
       "      <td>255</td>\n",
       "      <td>...</td>\n",
       "      <td>0</td>\n",
       "      <td>0</td>\n",
       "      <td>0</td>\n",
       "      <td>0</td>\n",
       "      <td>0</td>\n",
       "      <td>0</td>\n",
       "      <td>0</td>\n",
       "      <td>0</td>\n",
       "      <td>0</td>\n",
       "      <td>0</td>\n",
       "    </tr>\n",
       "    <tr>\n",
       "      <th>4443</th>\n",
       "      <td>0</td>\n",
       "      <td>0</td>\n",
       "      <td>0</td>\n",
       "      <td>0</td>\n",
       "      <td>0</td>\n",
       "      <td>0</td>\n",
       "      <td>0</td>\n",
       "      <td>0</td>\n",
       "      <td>0</td>\n",
       "      <td>0</td>\n",
       "      <td>...</td>\n",
       "      <td>0</td>\n",
       "      <td>0</td>\n",
       "      <td>0</td>\n",
       "      <td>0</td>\n",
       "      <td>0</td>\n",
       "      <td>0</td>\n",
       "      <td>0</td>\n",
       "      <td>0</td>\n",
       "      <td>0</td>\n",
       "      <td>0</td>\n",
       "    </tr>\n",
       "    <tr>\n",
       "      <th>...</th>\n",
       "      <td>...</td>\n",
       "      <td>...</td>\n",
       "      <td>...</td>\n",
       "      <td>...</td>\n",
       "      <td>...</td>\n",
       "      <td>...</td>\n",
       "      <td>...</td>\n",
       "      <td>...</td>\n",
       "      <td>...</td>\n",
       "      <td>...</td>\n",
       "      <td>...</td>\n",
       "      <td>...</td>\n",
       "      <td>...</td>\n",
       "      <td>...</td>\n",
       "      <td>...</td>\n",
       "      <td>...</td>\n",
       "      <td>...</td>\n",
       "      <td>...</td>\n",
       "      <td>...</td>\n",
       "      <td>...</td>\n",
       "      <td>...</td>\n",
       "    </tr>\n",
       "    <tr>\n",
       "      <th>756</th>\n",
       "      <td>0</td>\n",
       "      <td>0</td>\n",
       "      <td>0</td>\n",
       "      <td>0</td>\n",
       "      <td>0</td>\n",
       "      <td>0</td>\n",
       "      <td>0</td>\n",
       "      <td>0</td>\n",
       "      <td>0</td>\n",
       "      <td>0</td>\n",
       "      <td>...</td>\n",
       "      <td>0</td>\n",
       "      <td>0</td>\n",
       "      <td>0</td>\n",
       "      <td>0</td>\n",
       "      <td>0</td>\n",
       "      <td>0</td>\n",
       "      <td>0</td>\n",
       "      <td>0</td>\n",
       "      <td>0</td>\n",
       "      <td>0</td>\n",
       "    </tr>\n",
       "    <tr>\n",
       "      <th>2004</th>\n",
       "      <td>0</td>\n",
       "      <td>0</td>\n",
       "      <td>0</td>\n",
       "      <td>0</td>\n",
       "      <td>0</td>\n",
       "      <td>0</td>\n",
       "      <td>0</td>\n",
       "      <td>0</td>\n",
       "      <td>0</td>\n",
       "      <td>0</td>\n",
       "      <td>...</td>\n",
       "      <td>0</td>\n",
       "      <td>0</td>\n",
       "      <td>0</td>\n",
       "      <td>0</td>\n",
       "      <td>255</td>\n",
       "      <td>255</td>\n",
       "      <td>255</td>\n",
       "      <td>255</td>\n",
       "      <td>255</td>\n",
       "      <td>255</td>\n",
       "    </tr>\n",
       "    <tr>\n",
       "      <th>6742</th>\n",
       "      <td>0</td>\n",
       "      <td>0</td>\n",
       "      <td>0</td>\n",
       "      <td>0</td>\n",
       "      <td>0</td>\n",
       "      <td>0</td>\n",
       "      <td>0</td>\n",
       "      <td>0</td>\n",
       "      <td>0</td>\n",
       "      <td>0</td>\n",
       "      <td>...</td>\n",
       "      <td>0</td>\n",
       "      <td>0</td>\n",
       "      <td>0</td>\n",
       "      <td>0</td>\n",
       "      <td>0</td>\n",
       "      <td>0</td>\n",
       "      <td>0</td>\n",
       "      <td>0</td>\n",
       "      <td>0</td>\n",
       "      <td>0</td>\n",
       "    </tr>\n",
       "    <tr>\n",
       "      <th>4925</th>\n",
       "      <td>255</td>\n",
       "      <td>255</td>\n",
       "      <td>255</td>\n",
       "      <td>0</td>\n",
       "      <td>0</td>\n",
       "      <td>0</td>\n",
       "      <td>0</td>\n",
       "      <td>0</td>\n",
       "      <td>0</td>\n",
       "      <td>255</td>\n",
       "      <td>...</td>\n",
       "      <td>0</td>\n",
       "      <td>0</td>\n",
       "      <td>0</td>\n",
       "      <td>0</td>\n",
       "      <td>0</td>\n",
       "      <td>0</td>\n",
       "      <td>0</td>\n",
       "      <td>0</td>\n",
       "      <td>0</td>\n",
       "      <td>0</td>\n",
       "    </tr>\n",
       "    <tr>\n",
       "      <th>4755</th>\n",
       "      <td>0</td>\n",
       "      <td>0</td>\n",
       "      <td>0</td>\n",
       "      <td>0</td>\n",
       "      <td>0</td>\n",
       "      <td>0</td>\n",
       "      <td>0</td>\n",
       "      <td>0</td>\n",
       "      <td>0</td>\n",
       "      <td>0</td>\n",
       "      <td>...</td>\n",
       "      <td>0</td>\n",
       "      <td>0</td>\n",
       "      <td>0</td>\n",
       "      <td>0</td>\n",
       "      <td>0</td>\n",
       "      <td>0</td>\n",
       "      <td>0</td>\n",
       "      <td>0</td>\n",
       "      <td>0</td>\n",
       "      <td>0</td>\n",
       "    </tr>\n",
       "  </tbody>\n",
       "</table>\n",
       "<p>2527 rows × 1152 columns</p>\n",
       "</div>"
      ],
      "text/plain": [
       "       x1   x2   x3   x4   x5   x6   x7   x8   x9  x10  ...  x1143  x1144   \n",
       "8404    0    0    0    0    0    0    0    0    0    0  ...      0      0  \\\n",
       "4949    0    0    0    0    0    0    0    0    0    0  ...      0      0   \n",
       "3971    0    0    0    0    0    0    0    0    0    0  ...      0      0   \n",
       "5187  255  255  255  255  255  255  255  255  255  255  ...      0      0   \n",
       "4443    0    0    0    0    0    0    0    0    0    0  ...      0      0   \n",
       "...   ...  ...  ...  ...  ...  ...  ...  ...  ...  ...  ...    ...    ...   \n",
       "756     0    0    0    0    0    0    0    0    0    0  ...      0      0   \n",
       "2004    0    0    0    0    0    0    0    0    0    0  ...      0      0   \n",
       "6742    0    0    0    0    0    0    0    0    0    0  ...      0      0   \n",
       "4925  255  255  255    0    0    0    0    0    0  255  ...      0      0   \n",
       "4755    0    0    0    0    0    0    0    0    0    0  ...      0      0   \n",
       "\n",
       "      x1145  x1146  x1147  x1148  x1149  x1150  x1151  x1152  \n",
       "8404      0      0      0      0      0      0      0      0  \n",
       "4949      0      0      0      0      0      0      0      0  \n",
       "3971      0      0      0      0      0      0      0      0  \n",
       "5187      0      0      0      0      0      0      0      0  \n",
       "4443      0      0      0      0      0      0      0      0  \n",
       "...     ...    ...    ...    ...    ...    ...    ...    ...  \n",
       "756       0      0      0      0      0      0      0      0  \n",
       "2004      0      0    255    255    255    255    255    255  \n",
       "6742      0      0      0      0      0      0      0      0  \n",
       "4925      0      0      0      0      0      0      0      0  \n",
       "4755      0      0      0      0      0      0      0      0  \n",
       "\n",
       "[2527 rows x 1152 columns]"
      ]
     },
     "execution_count": 8,
     "metadata": {},
     "output_type": "execute_result"
    }
   ],
   "source": [
    "X_prueba"
   ]
  },
  {
   "cell_type": "code",
   "execution_count": 9,
   "metadata": {},
   "outputs": [
    {
     "name": "stderr",
     "output_type": "stream",
     "text": [
      "C:\\Users\\icortesc\\AppData\\Roaming\\Python\\Python310\\site-packages\\sklearn\\base.py:432: UserWarning: X has feature names, but KNeighborsClassifier was fitted without feature names\n",
      "  warnings.warn(\n"
     ]
    }
   ],
   "source": [
    "# hacer predicciones en los datos de prueba\n",
    "predicciones = modelo.predict(X_prueba)"
   ]
  },
  {
   "cell_type": "code",
   "execution_count": 10,
   "metadata": {},
   "outputs": [
    {
     "name": "stdout",
     "output_type": "stream",
     "text": [
      "Precisión del modelo: 0.998021369212505\n"
     ]
    }
   ],
   "source": [
    "# calcular la precisión del modelo\n",
    "precision = accuracy_score(y_prueba, predicciones)\n",
    "\n",
    "print(\"Precisión del modelo:\", precision)"
   ]
  },
  {
   "cell_type": "code",
   "execution_count": 11,
   "metadata": {},
   "outputs": [
    {
     "data": {
      "text/plain": [
       "array([[832,   0,   0],\n",
       "       [  1, 861,   2],\n",
       "       [  0,   2, 829]], dtype=int64)"
      ]
     },
     "execution_count": 11,
     "metadata": {},
     "output_type": "execute_result"
    }
   ],
   "source": [
    "#generar la matriz confusión\n",
    "confusion_matrix = metrics.confusion_matrix(y_prueba, \n",
    "                                                predicciones)\n",
    "\n",
    "confusion_matrix"
   ]
  },
  {
   "cell_type": "code",
   "execution_count": 12,
   "metadata": {},
   "outputs": [
    {
     "data": {
      "image/png": "[encoded data removed]",
      "text/plain": [
       "<Figure size 640x480 with 2 Axes>"
      ]
     },
     "metadata": {},
     "output_type": "display_data"
    }
   ],
   "source": [
    "cm_display = metrics.ConfusionMatrixDisplay(confusion_matrix = confusion_matrix, display_labels = ['','',''])\n",
    "\n",
    "cm_display.plot()\n",
    "plt.title(\"Matriz Confusión\")\n",
    "plt.xlabel(\"Predecidos\")\n",
    "plt.ylabel(\"Verdaderos\")\n",
    "plt.show()"
   ]
  },
  {
   "cell_type": "code",
   "execution_count": 13,
   "metadata": {},
   "outputs": [
    {
     "name": "stdout",
     "output_type": "stream",
     "text": [
      "El modelo tiene un porcentaje de exactitud de: 99.8021369212505%\n"
     ]
    }
   ],
   "source": [
    "#Obtener verdaderos de la matriz confusión\n",
    "verdaderos = int(confusion_matrix[[0],[0]] + confusion_matrix[[1],[1]] + confusion_matrix[[2],[2]])\n",
    "verdaderos\n",
    "\n",
    "#Obtener falsos de la matriz confusión\n",
    "falsos = int(confusion_matrix[[0],[1]] + confusion_matrix[[0],[2]] + confusion_matrix[[1],[0]] + confusion_matrix[[1],[2]] + confusion_matrix[[2],[0]] + confusion_matrix[[2],[1]])\n",
    "falsos\n",
    "\n",
    "exactitud = verdaderos / (verdaderos+falsos) * 100\n",
    "print(f'El modelo tiene un porcentaje de exactitud de: {exactitud}%')"
   ]
  },
  {
   "cell_type": "code",
   "execution_count": 14,
   "metadata": {},
   "outputs": [
    {
     "name": "stdout",
     "output_type": "stream",
     "text": [
      "El modelo tiene un porcentaje de sensibilidad sobre Iris de: 100.0%\n",
      "El modelo tiene un porcentaje de sensibilidad sobre Versicolor de: 99.65277777777779%\n",
      "El modelo tiene un porcentaje de sensibilidad sobre Virginica de: 99.75932611311673%\n"
     ]
    }
   ],
   "source": [
    "verdaderos_izq = int(confusion_matrix[[0],[0]])\n",
    "falsos_izq = int(confusion_matrix[[0],[1]] + confusion_matrix[[0],[2]])\n",
    "sensibilidad_izq = verdaderos_izq / (falsos_izq + verdaderos_izq) * 100\n",
    "\n",
    "print(f'El modelo tiene un porcentaje de sensibilidad sobre Iris de: {sensibilidad_izq}%')\n",
    "\n",
    "verdaderos_cent = int(confusion_matrix[[1],[1]])\n",
    "falsos_cent = int(confusion_matrix[[1],[0]] + confusion_matrix[[1],[2]])\n",
    "sensibilidad_cent = verdaderos_cent / (falsos_cent + verdaderos_cent) * 100\n",
    "\n",
    "print(f'El modelo tiene un porcentaje de sensibilidad sobre Versicolor de: {sensibilidad_cent}%')\n",
    "\n",
    "verdaderos_der = int(confusion_matrix[[2],[2]])\n",
    "falsos_der = int(confusion_matrix[[2],[0]] + confusion_matrix[[2],[1]])\n",
    "sensibilidad_der = verdaderos_der / (falsos_der + verdaderos_der) * 100\n",
    "\n",
    "print(f'El modelo tiene un porcentaje de sensibilidad sobre Virginica de: {sensibilidad_der}%')"
   ]
  }
 ],
 "metadata": {
  "kernelspec": {
   "display_name": "Python 3",
   "language": "python",
   "name": "python3"
  },
  "language_info": {
   "codemirror_mode": {
    "name": "ipython",
    "version": 3
   },
   "file_extension": ".py",
   "mimetype": "text/x-python",
   "name": "python",
   "nbconvert_exporter": "python",
   "pygments_lexer": "ipython3",
   "version": "3.10.7"
  },
  "orig_nbformat": 4
 },
 "nbformat": 4,
 "nbformat_minor": 2
}
